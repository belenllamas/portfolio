{
 "cells": [
  {
   "attachments": {},
   "cell_type": "markdown",
   "metadata": {},
   "source": [
    "# Cool T-Shirts"
   ]
  },
  {
   "attachments": {},
   "cell_type": "markdown",
   "metadata": {},
   "source": [
    "This is a fictitious **CodeCademy.com** project. \n",
    "\n",
    "Cool T-Shirts Inc. has asked you to analyze data on visits to their website. Your job is to build a funnel, which is a description of how many people continue to the next step of a multi-step process.\n",
    "\n",
    "In this case, our funnel is going to describe the following process:\n",
    "\n",
    "1. A user visits CoolTShirts.com\n",
    "2. A user adds a t-shirt to their cart\n",
    "3. A user clicks “checkout”\n",
    "4. A user actually purchases a t-shirt"
   ]
  },
  {
   "attachments": {},
   "cell_type": "markdown",
   "metadata": {},
   "source": [
    "## 1. Importing all the files and exploring the data"
   ]
  },
  {
   "cell_type": "code",
   "execution_count": 2,
   "metadata": {},
   "outputs": [],
   "source": [
    "import pandas as pd"
   ]
  },
  {
   "cell_type": "code",
   "execution_count": 3,
   "metadata": {},
   "outputs": [],
   "source": [
    "visits = pd.read_csv('visits.csv', parse_dates=[1])\n",
    "cart = pd.read_csv('cart.csv', parse_dates=[1])\n",
    "checkout = pd.read_csv('checkout.csv', parse_dates=[1])\n",
    "purchase = pd.read_csv('purchase.csv', parse_dates=[1])"
   ]
  },
  {
   "attachments": {},
   "cell_type": "markdown",
   "metadata": {},
   "source": [
    "We will have a look at the different dataframes we will be working with."
   ]
  },
  {
   "cell_type": "code",
   "execution_count": 4,
   "metadata": {},
   "outputs": [
    {
     "name": "stdout",
     "output_type": "stream",
     "text": [
      "                                user_id          visit_time\n",
      "0  943647ef-3682-4750-a2e1-918ba6f16188 2017-04-07 15:14:00\n",
      "1  0c3a3dd0-fb64-4eac-bf84-ba069ce409f2 2017-01-26 14:24:00\n",
      "2  6e0b2d60-4027-4d9a-babd-0e7d40859fb1 2017-08-20 08:23:00\n",
      "3  6879527e-c5a6-4d14-b2da-50b85212b0ab 2017-11-04 18:15:00\n",
      "4  a84327ff-5daa-4ba1-b789-d5b4caf81e96 2017-02-27 11:25:00\n",
      "                                user_id           cart_time\n",
      "0  2be90e7c-9cca-44e0-bcc5-124b945ff168 2017-11-07 20:45:00\n",
      "1  4397f73f-1da3-4ab3-91af-762792e25973 2017-05-27 01:35:00\n",
      "2  a9db3d4b-0a0a-4398-a55a-ebb2c7adf663 2017-03-04 10:38:00\n",
      "3  b594862a-36c5-47d5-b818-6e9512b939b3 2017-09-27 08:22:00\n",
      "4  a68a16e2-94f0-4ce8-8ce3-784af0bbb974 2017-07-26 15:48:00\n",
      "                                user_id       checkout_time\n",
      "0  d33bdc47-4afa-45bc-b4e4-dbe948e34c0d 2017-06-25 09:29:00\n",
      "1  4ac186f0-9954-4fea-8a27-c081e428e34e 2017-04-07 20:11:00\n",
      "2  3c9c78a7-124a-4b77-8d2e-e1926e011e7d 2017-07-13 11:38:00\n",
      "3  89fe330a-8966-4756-8f7c-3bdbcd47279a 2017-04-20 16:15:00\n",
      "4  3ccdaf69-2d30-40de-b083-51372881aedd 2017-01-08 20:52:00\n",
      "                                user_id       purchase_time\n",
      "0  4b44ace4-2721-47a0-b24b-15fbfa2abf85 2017-05-11 04:25:00\n",
      "1  02e684ae-a448-408f-a9ff-dcb4a5c99aac 2017-09-05 08:45:00\n",
      "2  4b4bc391-749e-4b90-ab8f-4f6e3c84d6dc 2017-11-20 20:49:00\n",
      "3  a5dbb25f-3c36-4103-9030-9f7c6241cd8d 2017-01-22 15:18:00\n",
      "4  46a3186d-7f5a-4ab9-87af-84d05bfd4867 2017-06-11 11:32:00\n"
     ]
    }
   ],
   "source": [
    "print(visits.head())\n",
    "print(cart.head())\n",
    "print(checkout.head())\n",
    "print(purchase.head())"
   ]
  },
  {
   "attachments": {},
   "cell_type": "markdown",
   "metadata": {},
   "source": [
    "## 2. From visits to cart"
   ]
  },
  {
   "cell_type": "code",
   "execution_count": 5,
   "metadata": {},
   "outputs": [
    {
     "name": "stdout",
     "output_type": "stream",
     "text": [
      "Number of visits = 2000\n",
      "Number of users adding to the cart = 348\n",
      "Number of users only visiting = 1652\n",
      "Percentage of users only visiting = 0.826\n"
     ]
    }
   ],
   "source": [
    "visits_to_cart = pd.merge(visits, cart, how = 'left')\n",
    "\n",
    "visits_count = visits_to_cart.user_id.nunique()\n",
    "print('Number of visits = ' + str(visits_count))\n",
    "\n",
    "cart_time_count = visits_to_cart.cart_time.count()\n",
    "print('Number of users adding to the cart = ' + str(cart_time_count))\n",
    "print('Number of users only visiting = ' + str(visits_count - cart_time_count))\n",
    "\n",
    "percentage_visit_not_cart = (visits_count - cart_time_count) / float(visits_count)\n",
    "print('Percentage of users only visiting = ' + str(percentage_visit_not_cart))"
   ]
  },
  {
   "attachments": {},
   "cell_type": "markdown",
   "metadata": {},
   "source": [
    "## 3. From cart to checkout"
   ]
  },
  {
   "cell_type": "code",
   "execution_count": 8,
   "metadata": {},
   "outputs": [
    {
     "name": "stdout",
     "output_type": "stream",
     "text": [
      "Checkout null values = 122\n",
      "Percentage of users that put items in their cart but did not proceed to checkout = 0.3505747126436782\n"
     ]
    }
   ],
   "source": [
    "cart_to_checkout = pd.merge(cart, checkout, how = 'left')\n",
    "\n",
    "checkout_time_null = len(cart_to_checkout[cart_to_checkout.checkout_time.isnull()])\n",
    "percentage_cart_not_checkout = float(checkout_time_null) / cart_time_count\n",
    "\n",
    "print('Checkout null values = ' + str(checkout_time_null))\n",
    "print('Percentage of users that put items in their cart but did not proceed to checkout = ' + str(percentage_cart_not_checkout))"
   ]
  },
  {
   "attachments": {},
   "cell_type": "markdown",
   "metadata": {},
   "source": [
    "## 4. All data"
   ]
  },
  {
   "cell_type": "code",
   "execution_count": 9,
   "metadata": {},
   "outputs": [
    {
     "name": "stdout",
     "output_type": "stream",
     "text": [
      "                                user_id          visit_time  \\\n",
      "0  943647ef-3682-4750-a2e1-918ba6f16188 2017-04-07 15:14:00   \n",
      "1  0c3a3dd0-fb64-4eac-bf84-ba069ce409f2 2017-01-26 14:24:00   \n",
      "2  6e0b2d60-4027-4d9a-babd-0e7d40859fb1 2017-08-20 08:23:00   \n",
      "3  6879527e-c5a6-4d14-b2da-50b85212b0ab 2017-11-04 18:15:00   \n",
      "4  a84327ff-5daa-4ba1-b789-d5b4caf81e96 2017-02-27 11:25:00   \n",
      "\n",
      "            cart_time       checkout_time       purchase_time  \n",
      "0                 NaT                 NaT                 NaT  \n",
      "1 2017-01-26 14:44:00 2017-01-26 14:54:00 2017-01-26 15:08:00  \n",
      "2 2017-08-20 08:31:00                 NaT                 NaT  \n",
      "3                 NaT                 NaT                 NaT  \n",
      "4                 NaT                 NaT                 NaT  \n",
      "Lenght reached_checkout = 334\n",
      "checkout_not_purchase = 82\n",
      "Percentage of user that reached checkout without purchasing = 0.24550898203592814\n"
     ]
    }
   ],
   "source": [
    "all_data = visits.merge(cart, how = 'left').merge(checkout, how = 'left').merge(purchase, how = 'left')\n",
    "print(all_data.head())\n",
    "\n",
    "reached_checkout = all_data[~all_data.checkout_time.isnull()]\n",
    "checkout_not_purchase = reached_checkout[reached_checkout.purchase_time.isnull()]\n",
    "percentage_checkout_not_purchase = float(len(checkout_not_purchase)) / len(reached_checkout)\n",
    "\n",
    "print('Lenght reached_checkout = ' + str(len(reached_checkout)))\n",
    "print('checkout_not_purchase = ' + str(len(checkout_not_purchase)))\n",
    "print('Percentage of user that reached checkout without purchasing = ' + str(percentage_checkout_not_purchase))"
   ]
  },
  {
   "attachments": {},
   "cell_type": "markdown",
   "metadata": {},
   "source": [
    "## 5. Average time to purchase"
   ]
  },
  {
   "cell_type": "code",
   "execution_count": 13,
   "metadata": {},
   "outputs": [
    {
     "name": "stdout",
     "output_type": "stream",
     "text": [
      "The average time spent to place a purchase is 0 days 00:43:12.380952380\n"
     ]
    }
   ],
   "source": [
    "all_data['time_from_visit_to_purchase'] = all_data.apply(lambda row: row['purchase_time'] - row['visit_time'], axis = 1)\n",
    "\n",
    "avg_time_spent_purchasing = all_data.time_from_visit_to_purchase.mean()\n",
    "\n",
    "print('The average time spent to place a purchase is ' + str(avg_time_spent_purchasing))\n"
   ]
  },
  {
   "attachments": {},
   "cell_type": "markdown",
   "metadata": {},
   "source": [
    "## 6. Conclusions"
   ]
  },
  {
   "cell_type": "code",
   "execution_count": 17,
   "metadata": {},
   "outputs": [
    {
     "name": "stdout",
     "output_type": "stream",
     "text": [
      "82.6 percent of users who visited the page did not add a t-shirt to their cart\n",
      "35.06 percent of users who added a t-shirt to their cart did not checkout\n",
      "24.55 percent of users who made it to checkout  did not purchase a shirt\n"
     ]
    }
   ],
   "source": [
    "print(\"{} percent of users who visited the page did not add a t-shirt to their cart\".format(round(percentage_visit_not_cart *100, 2)))\n",
    "print(\"{} percent of users who added a t-shirt to their cart did not checkout\".format(round(percentage_cart_not_checkout*100, 2)))\n",
    "print(\"{} percent of users who made it to checkout  did not purchase a shirt\".format(round(percentage_checkout_not_purchase*100, 2)))"
   ]
  },
  {
   "attachments": {},
   "cell_type": "markdown",
   "metadata": {},
   "source": [
    "*The weakest part of the funnel is clearly getting a person who visited the site to add a tshirt to their cart. Once they've added a t-shirt to their cart it is fairly likely they end up purchasing it. A suggestion could be to make the add-to-cart button more prominent on the front page.*"
   ]
  }
 ],
 "metadata": {
  "kernelspec": {
   "display_name": "Python 3",
   "language": "python",
   "name": "python3"
  },
  "language_info": {
   "codemirror_mode": {
    "name": "ipython",
    "version": 3
   },
   "file_extension": ".py",
   "mimetype": "text/x-python",
   "name": "python",
   "nbconvert_exporter": "python",
   "pygments_lexer": "ipython3",
   "version": "3.10.4"
  },
  "vscode": {
   "interpreter": {
    "hash": "3ad933181bd8a04b432d3370b9dc3b0662ad032c4dfaa4e4f1596c548f763858"
   }
  }
 },
 "nbformat": 4,
 "nbformat_minor": 4
}
