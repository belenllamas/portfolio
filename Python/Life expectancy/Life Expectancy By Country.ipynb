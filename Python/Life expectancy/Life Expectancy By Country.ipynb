{
 "cells": [
  {
   "cell_type": "markdown",
   "id": "0d033e85",
   "metadata": {},
   "source": [
    "# Life Expectancy By Country"
   ]
  },
  {
   "cell_type": "markdown",
   "id": "fd4403be",
   "metadata": {},
   "source": [
    "Over the course of the past few centuries, technological and medical advancements have helped increase the life expectancy of humans. However, as of now, the average life expectancy of humans varies depending on what country you live in.\n",
    "\n",
    "In this project, we will investigate a dataset containing information about the average life expectancy in 158 different countries. We will specifically look at how a country's economic success might impact the life expectancy in that area."
   ]
  },
  {
   "attachments": {},
   "cell_type": "markdown",
   "id": "addfa720",
   "metadata": {},
   "source": [
    "## 1. Access the Data"
   ]
  },
  {
   "cell_type": "code",
   "execution_count": 2,
   "id": "551cb1ca",
   "metadata": {
    "vscode": {
     "languageId": "python"
    }
   },
   "outputs": [
    {
     "name": "stdout",
     "output_type": "stream",
     "text": [
      "               Country  Life Expectancy          GDP\n",
      "0          Afghanistan         58.19375   340.015425\n",
      "1              Albania         75.15625  2119.726679\n",
      "2              Algeria         73.61875  2847.853392\n",
      "3               Angola         49.01875  1975.143045\n",
      "4  Antigua and Barbuda         75.05625  9759.305728\n"
     ]
    }
   ],
   "source": [
    "import numpy as np\n",
    "import pandas as pd\n",
    "import matplotlib.pyplot as plt\n",
    "\n",
    "data = pd.read_csv(\"country_data.csv\")\n",
    "print(data.head())\n"
   ]
  },
  {
   "attachments": {},
   "cell_type": "markdown",
   "id": "1b0baea2",
   "metadata": {},
   "source": [
    "Let's isolate the column that contains the life expectancy and store it in a variable named `life_expectancy`. "
   ]
  },
  {
   "cell_type": "code",
   "execution_count": 3,
   "id": "817d9a01",
   "metadata": {
    "vscode": {
     "languageId": "python"
    }
   },
   "outputs": [],
   "source": [
    "life_expectancy = data['Life Expectancy']"
   ]
  },
  {
   "attachments": {},
   "cell_type": "markdown",
   "id": "6dbb4fb4",
   "metadata": {},
   "source": [
    "## 2. Find the Quantiles"
   ]
  },
  {
   "attachments": {},
   "cell_type": "markdown",
   "id": "f2bb4419",
   "metadata": {},
   "source": [
    "We can now use NumPy functions on that column! Let's use the `np.quantile()` function to find the quartiles of `life_expectancy`. Store the result in a variable named `life_expectancy_quartiles` and print the results."
   ]
  },
  {
   "cell_type": "code",
   "execution_count": 4,
   "id": "132424f2",
   "metadata": {
    "vscode": {
     "languageId": "python"
    }
   },
   "outputs": [
    {
     "name": "stdout",
     "output_type": "stream",
     "text": [
      "The quartiles of Life Expectancy are respectively [62.325     72.525     75.4421875]\n"
     ]
    }
   ],
   "source": [
    "life_expectancy_quartiles = np.quantile(life_expectancy, [0.25, 0.5, 0.75])\n",
    "print('The quartiles of Life Expectancy are respectively ' + str(life_expectancy_quartiles))"
   ]
  },
  {
   "attachments": {},
   "cell_type": "markdown",
   "id": "d6b6d31e",
   "metadata": {},
   "source": [
    "The histogram of Life Expectancy will look like this:"
   ]
  },
  {
   "cell_type": "code",
   "execution_count": 13,
   "id": "9ae17988",
   "metadata": {
    "vscode": {
     "languageId": "python"
    }
   },
   "outputs": [
    {
     "data": {
      "image/png": "[encoded data removed]",
      "text/plain": [
       "<Figure size 640x480 with 1 Axes>"
      ]
     },
     "metadata": {},
     "output_type": "display_data"
    }
   ],
   "source": [
    "label_list = ['Q1', 'Q2', 'Q3']\n",
    "plt.hist(life_expectancy)\n",
    "\n",
    "plt.axvline(x=np.quantile(life_expectancy, 0.25), c = 'red')\n",
    "plt.axvline(x=np.quantile(life_expectancy, 0.5), c = 'yellow')\n",
    "plt.axvline(x=np.quantile(life_expectancy, 0.75), c = 'violet')\n",
    "plt.title(\"Life Expectancy\")\n",
    "plt.xlabel(\"Years\")\n",
    "plt.legend(label_list)\n",
    "plt.show()"
   ]
  },
  {
   "attachments": {},
   "cell_type": "markdown",
   "id": "be8976cb",
   "metadata": {},
   "source": [
    "We will find out in which quartile Spain is located."
   ]
  },
  {
   "cell_type": "code",
   "execution_count": 6,
   "id": "a506aac1",
   "metadata": {
    "vscode": {
     "languageId": "python"
    }
   },
   "outputs": [
    {
     "name": "stdout",
     "output_type": "stream",
     "text": [
      "133    82.06875\n",
      "Name: Life Expectancy, dtype: float64\n"
     ]
    }
   ],
   "source": [
    "spain_life_expectancy = data.loc[data['Country'] == 'Spain']['Life Expectancy']\n",
    "print(spain_life_expectancy)"
   ]
  },
  {
   "attachments": {},
   "cell_type": "markdown",
   "id": "8e798010",
   "metadata": {},
   "source": [
    "**Spain** will fall into Q4."
   ]
  },
  {
   "attachments": {},
   "cell_type": "markdown",
   "id": "dc83db64",
   "metadata": {},
   "source": [
    "## 3. Splitting the Data by GDP"
   ]
  },
  {
   "attachments": {},
   "cell_type": "markdown",
   "id": "4dab91c1",
   "metadata": {},
   "source": [
    "GDP is a measure of a country's wealth. Let's now use the GDP data to see if life expectancy is affected by this value. Let's split the data into two groups based on GDP. If we find the median GDP, we can create two datasets for \"low GDP countries\" and \"high GDP countries\"."
   ]
  },
  {
   "cell_type": "code",
   "execution_count": 7,
   "id": "fa544862",
   "metadata": {
    "vscode": {
     "languageId": "python"
    }
   },
   "outputs": [
    {
     "name": "stdout",
     "output_type": "stream",
     "text": [
      "2938.0781155\n"
     ]
    }
   ],
   "source": [
    "gdp = data['GDP']\n",
    "gdp_median = np.median(gdp)\n",
    "print(gdp_median)\n",
    "\n",
    "low_gdp = data[data['GDP'] <= gdp_median]\n",
    "high_gdp = data[data['GDP'] > gdp_median]"
   ]
  },
  {
   "attachments": {},
   "cell_type": "markdown",
   "id": "26ad7103",
   "metadata": {},
   "source": [
    "Now that we've split the data based on the GDP, let's see how the life expectancy of each group compares to each other finding looking at their respectives 'Life Expectancy' quartiles."
   ]
  },
  {
   "cell_type": "code",
   "execution_count": 14,
   "id": "4a06ada2",
   "metadata": {
    "vscode": {
     "languageId": "python"
    }
   },
   "outputs": [
    {
     "name": "stdout",
     "output_type": "stream",
     "text": [
      "The quartiles of Life Expectancy in the low GDP group are respectively [56.3375  64.34375 71.7375 ]\n",
      "The quartiles of Life Expectancy in the high GDP group are respectively [72.965625 75.15625  80.521875]\n"
     ]
    }
   ],
   "source": [
    "low_gdp_quartiles = np.quantile(low_gdp['Life Expectancy'], [0.25, 0.5, 0.75])\n",
    "high_gdp_quartiles = np.quantile(high_gdp['Life Expectancy'], [0.25, 0.5, 0.75])\n",
    "\n",
    "print('The quartiles of Life Expectancy in the low GDP group are respectively ' + str(low_gdp_quartiles))\n",
    "print('The quartiles of Life Expectancy in the high GDP group are respectively ' + str(high_gdp_quartiles))"
   ]
  },
  {
   "attachments": {},
   "cell_type": "markdown",
   "id": "5fbc2a78",
   "metadata": {},
   "source": [
    "## 4. Histogram and Conclusions"
   ]
  },
  {
   "attachments": {},
   "cell_type": "markdown",
   "id": "f3472ae2",
   "metadata": {},
   "source": [
    "By looking at the quantiles, we can get a sense of the spread and central tendency of these two datasets. But let's plot a histogram of each dataset to really compare them."
   ]
  },
  {
   "cell_type": "code",
   "execution_count": 22,
   "id": "87077d84",
   "metadata": {
    "vscode": {
     "languageId": "python"
    }
   },
   "outputs": [
    {
     "data": {
      "image/png": "[encoded data removed]",
      "text/plain": [
       "<Figure size 640x480 with 1 Axes>"
      ]
     },
     "metadata": {},
     "output_type": "display_data"
    }
   ],
   "source": [
    "plt.hist(high_gdp[\"Life Expectancy\"], alpha = 0.5, label = \"High GDP\")\n",
    "plt.hist(low_gdp[\"Life Expectancy\"], alpha = 0.5, label = \"Low GDP\")\n",
    "for quartile in low_gdp_quartiles:\n",
    "    plt.axvline(x = quartile, c = 'orange')\n",
    "for quartile in high_gdp_quartiles:\n",
    "    plt.axvline(x = quartile, c = 'blue')\n",
    "plt.legend()\n",
    "plt.title('Life Expectancy comparing Low and High GDP')\n",
    "plt.xlabel('Years')\n",
    "plt.show()"
   ]
  },
  {
   "attachments": {},
   "cell_type": "markdown",
   "id": "2903763d",
   "metadata": {},
   "source": [
    "Let's say we consider a country that has a life expectancy of `70` years. If that country is in the top half of GDP countries, it would be in **Q1**, whilst if it were in the bottom half of GDP countries, it would be in **Q3**."
   ]
  }
 ],
 "metadata": {
  "kernelspec": {
   "display_name": "Python 3 (ipykernel)",
   "language": "python",
   "name": "python3"
  }
 },
 "nbformat": 4,
 "nbformat_minor": 5
}
